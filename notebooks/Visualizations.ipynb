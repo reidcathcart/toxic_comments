{
 "cells": [
  {
   "cell_type": "code",
   "execution_count": 47,
   "metadata": {
    "ExecuteTime": {
     "end_time": "2018-02-02T23:21:06.449728Z",
     "start_time": "2018-02-02T23:20:59.930963Z"
    }
   },
   "outputs": [
    {
     "data": {
      "text/html": [
       "<script>requirejs.config({paths: { 'plotly': ['https://cdn.plot.ly/plotly-latest.min']},});if(!window.Plotly) {{require(['plotly'],function(plotly) {window.Plotly=plotly;});}}</script>"
      ],
      "text/plain": [
       "<script>requirejs.config({paths: { 'plotly': ['https://cdn.plot.ly/plotly-latest.min']},});if(!window.Plotly) {{require(['plotly'],function(plotly) {window.Plotly=plotly;});}}</script>"
      ]
     },
     "execution_count": 0,
     "metadata": {},
     "output_type": "execute_result"
    }
   ],
   "source": [
    "import pandas as pd\n",
    "import numpy as np\n",
    "import string\n",
    "from collections import Counter\n",
    "import matplotlib.pyplot as plt\n",
    "import seaborn as sns\n",
    "import plotly as py\n",
    "import plotly.graph_objs as go\n",
    "import matplotlib.patches as mpatches\n",
    "\n",
    "# plotly output mode\n",
    "py.offline.init_notebook_mode(connected=True)\n",
    "# matplotlib display in notebook\n",
    "% matplotlib inline\n",
    "# seaborn style\n",
    "sns.set(style='whitegrid', palette='muted', color_codes=True)\n"
   ]
  },
  {
   "cell_type": "code",
   "execution_count": 3,
   "metadata": {
    "ExecuteTime": {
     "end_time": "2018-02-02T23:21:09.221750Z",
     "start_time": "2018-02-02T23:21:06.450719Z"
    }
   },
   "outputs": [],
   "source": [
    "from wordcloud import WordCloud\n",
    "from nltk.corpus import stopwords\n",
    "from nltk.tokenize import RegexpTokenizer\n",
    "from nltk.stem import PorterStemmer\n",
    "\n",
    "from sklearn.utils.validation import check_X_y\n"
   ]
  },
  {
   "cell_type": "code",
   "execution_count": 4,
   "metadata": {
    "ExecuteTime": {
     "end_time": "2018-02-02T23:21:09.254756Z",
     "start_time": "2018-02-02T23:21:09.222733Z"
    }
   },
   "outputs": [],
   "source": [
    "stopwords_set = set(stopwords.words('english'))\n",
    "s = PorterStemmer()\n",
    "tokenizer = RegexpTokenizer(r'\\w+')\n",
    "\n",
    "def text_process(comment_column):\n",
    "    filtered_rows = []\n",
    "    for rows in comment_column:\n",
    "        only_words = tokenizer.tokenize(rows)\n",
    "        no_stopwords = [word for word in only_words if word.lower() not in stopwords_set]\n",
    "        #stems = [s.stem(word) for word in no_stopwords]\n",
    "        filtered_rows.append(' '.join(no_stopwords))\n",
    "    return filtered_rows\n",
    "\n",
    "def find_badwords(comment_column):\n",
    "    filtered_rows = []\n",
    "    for rows in comment_column:\n",
    "        only_words = tokenizer.tokenize(rows)\n",
    "        bad = [word for word in only_words if word.lower() in badwords_set]\n",
    "        total_bad, = np.shape(bad)\n",
    "        filtered_rows.append(total_bad)\n",
    "    return filtered_rows\n",
    "\n",
    "def get_tags(df):\n",
    "    tags = []\n",
    "    alltags = []\n",
    "    rows = df.shape[0]\n",
    "    for r in range(df.index.min(), df.index.max() + 1):\n",
    "        for f in df.columns:\n",
    "            if df.loc[r, f] == 1:\n",
    "                tags.append(str(f))\n",
    "        alltags.append(tags)\n",
    "        tags = []\n",
    "    return alltags\n"
   ]
  },
  {
   "cell_type": "code",
   "execution_count": 5,
   "metadata": {
    "ExecuteTime": {
     "end_time": "2018-02-02T23:21:11.866617Z",
     "start_time": "2018-02-02T23:21:09.255757Z"
    }
   },
   "outputs": [],
   "source": [
    "df_train_initial = pd.read_csv('data/raw/train.csv.zip')\n",
    "df_test_initial = pd.read_csv('data/raw/test.csv.zip')\n",
    "df_features = pd.concat([df_train_initial, df_test_initial]).reset_index(drop=True)\n",
    "df_features[\"source\"] = ''\n",
    "df_features.loc[0:len(df_train_initial), ['source']] = 'train'\n",
    "df_features.loc[len(df_train_initial):, ['source']] = 'test'\n",
    "\n",
    "initialcols = list(df_train_initial.columns[df_train_initial.dtypes == 'int64'])\n",
    "\n",
    "punct_set = set(string.punctuation)\n",
    "\n",
    "badwords = pd.read_csv('data/external/badwords.txt', header=None)\n",
    "badwords.rename(columns={0: 'badwords'}, inplace=True)\n",
    "badwords['badwords'] = badwords['badwords'].str.lower()\n",
    "badwords_set = set(badwords['badwords'].str.replace('*', ''))\n"
   ]
  },
  {
   "cell_type": "markdown",
   "metadata": {},
   "source": [
    "No nulls in data set"
   ]
  },
  {
   "cell_type": "code",
   "execution_count": 6,
   "metadata": {
    "ExecuteTime": {
     "end_time": "2018-02-02T23:21:11.926798Z",
     "start_time": "2018-02-02T23:21:11.868747Z"
    }
   },
   "outputs": [
    {
     "data": {
      "text/plain": [
       "id               0\ncomment_text     0\ntoxic            0\nsevere_toxic     0\nobscene          0\nthreat           0\ninsult           0\nidentity_hate    0\ndtype: int64"
      ]
     },
     "execution_count": 6,
     "metadata": {},
     "output_type": "execute_result"
    }
   ],
   "source": [
    "df_train_initial.isna().sum()\n"
   ]
  },
  {
   "cell_type": "markdown",
   "metadata": {},
   "source": [
    "Indicate whether a row is 'clean' and how many flags it has"
   ]
  },
  {
   "cell_type": "code",
   "execution_count": 7,
   "metadata": {
    "ExecuteTime": {
     "end_time": "2018-02-02T23:21:12.266036Z",
     "start_time": "2018-02-02T23:21:11.927800Z"
    }
   },
   "outputs": [],
   "source": [
    "df_features['clean'] = df_features.loc[:, initialcols].sum(axis=1).apply(lambda x: 1 if x == 0 else 0)\n",
    "df_features['total_flags'] = df_features.loc[:, initialcols].sum(axis=1)\n",
    "df_features['comment_length'] = df_features.comment_text.str.len()\n"
   ]
  },
  {
   "cell_type": "code",
   "execution_count": 53,
   "metadata": {
    "ExecuteTime": {
     "end_time": "2018-02-04T00:11:36.060088Z",
     "start_time": "2018-02-04T00:10:47.855667Z"
    }
   },
   "outputs": [],
   "source": [
    "word_count = []\n",
    "comments_processed = text_process(df_features.comment_text)\n",
    "word_count_proc = []\n",
    "comment_len_proc = []\n",
    "words_all_caps = []\n",
    "punct_count = []\n",
    "badword_count = []\n",
    "badword_allcaps = []\n",
    "most_common_word_count = []\n",
    "mcw_is_badword = []\n",
    "exclam_count = []\n",
    "\n",
    "for row in df_features.comment_text:\n",
    "    word_count.append(len(row.split()))\n",
    "    punct_count.append(sum([1 for x in row if x in punct_set]))\n",
    "    badword_count.append(sum([1 for x in row.lower().split() if x in badwords_set]))\n",
    "    exclam_count.append(sum([1 for x in row if x == '!']))\n",
    "\n",
    "for row in comments_processed:\n",
    "    word_count_proc.append(len(row.split()))\n",
    "    comment_len_proc.append(len(row))\n",
    "    words_all_caps.append(np.sum([x.isupper() for x in row.split() if len(x) > 1]))\n",
    "    badword_allcaps.append(np.sum([x.isupper() for x in row.split() if (len(x) > 1) & (x.lower() in badwords_set)]))\n",
    "    q = Counter(tokenizer.tokenize(row))\n",
    "    if len(q) > 0:\n",
    "        most_common_word_count.append(q.most_common(1)[0][1])\n",
    "        mcw_is_badword.append(q.most_common(1)[0][0].lower() in badwords_set)\n",
    "    else:\n",
    "        most_common_word_count.append(0)\n",
    "        mcw_is_badword.append(0)\n",
    "\n",
    "df_features['comment_word_all_caps_processed'] = words_all_caps\n",
    "df_features['comment_word_count_processed'] = word_count_proc\n",
    "df_features['comment_length_processed'] = comment_len_proc\n",
    "df_features['comment_word_count'] = word_count\n",
    "df_features['comment_punct_count'] = punct_count\n",
    "df_features['comment_badword_count'] = badword_count\n",
    "df_features['comment_badword_all_caps_count'] = badword_allcaps\n",
    "df_features['comment_most_common_word_count'] = most_common_word_count\n",
    "df_features['comment_mcw_is_badword'] = mcw_is_badword\n",
    "df_features['comment_exclam_count'] = exclam_count\n"
   ]
  },
  {
   "cell_type": "code",
   "execution_count": 9,
   "metadata": {
    "ExecuteTime": {
     "end_time": "2018-02-03T04:06:51.264743Z",
     "start_time": "2018-02-03T04:06:51.218707Z"
    }
   },
   "outputs": [],
   "source": [
    "df_features['mean_word_size_processed'] = df_features.comment_length_processed/df_features.comment_word_count_processed\n",
    "df_features['mean_word_size'] = df_features.comment_length/df_features.comment_word_count\n",
    "df_features['punct_pct'] = df_features.comment_punct_count / df_features.comment_length * 100\n",
    "df_features['badword_pct'] = df_features.comment_badword_count / df_features.comment_word_count_processed * 100\n",
    "df_features['all_caps_pct'] = df_features.comment_word_all_caps_processed / df_features.comment_word_count_processed * 100\n",
    "df_features['all_caps_pct_badwords'] = df_features.comment_badword_all_caps_count / df_features.comment_word_all_caps_processed * 100\n",
    "df_features['mcw_pct'] = df_features.comment_most_common_word_count/df_features.comment_word_count_processed*100"
   ]
  },
  {
   "cell_type": "code",
   "execution_count": 10,
   "metadata": {
    "ExecuteTime": {
     "end_time": "2018-02-04T00:11:53.808921Z",
     "start_time": "2018-02-04T00:11:52.970330Z"
    }
   },
   "outputs": [],
   "source": [
    "df_melted = df_features[df_features.source == 'train'].melt(\n",
    "    id_vars=[x for x in df_features.columns if x not in initialcols + ['clean']],\n",
    "    value_vars=initialcols + ['clean'],\n",
    "    var_name='flag_type')\n",
    "df_melted = df_melted[df_melted.value == 1.0]\n"
   ]
  },
  {
   "cell_type": "code",
   "execution_count": 39,
   "metadata": {
    "ExecuteTime": {
     "end_time": "2018-02-04T00:11:55.688629Z",
     "start_time": "2018-02-04T00:11:55.662598Z"
    }
   },
   "outputs": [
    {
     "data": {
      "text/html": [
       "<div>\n",
       "<style scoped>\n",
       "    .dataframe tbody tr th:only-of-type {\n",
       "        vertical-align: middle;\n",
       "    }\n",
       "\n",
       "    .dataframe tbody tr th {\n",
       "        vertical-align: top;\n",
       "    }\n",
       "\n",
       "    .dataframe thead th {\n",
       "        text-align: right;\n",
       "    }\n",
       "</style>\n",
       "<table border=\"1\" class=\"dataframe\">\n",
       "  <thead>\n",
       "    <tr style=\"text-align: right;\">\n",
       "      <th></th>\n",
       "      <th>comment_text</th>\n",
       "      <th>id</th>\n",
       "      <th>source</th>\n",
       "      <th>total_flags</th>\n",
       "      <th>comment_length</th>\n",
       "      <th>comment_word_all_caps_processed</th>\n",
       "    </tr>\n",
       "  </thead>\n",
       "  <tbody>\n",
       "    <tr>\n",
       "      <th>6</th>\n",
       "      <td>COCKSUCKER BEFORE YOU PISS AROUND ON MY WORK</td>\n",
       "      <td>0002bcb3da6cb337</td>\n",
       "      <td>train</td>\n",
       "      <td>4.0</td>\n",
       "      <td>44</td>\n",
       "      <td>4.0</td>\n",
       "    </tr>\n",
       "    <tr>\n",
       "      <th>12</th>\n",
       "      <td>Hey... what is it..\\n@ | talk .\\nWhat is it......</td>\n",
       "      <td>0005c987bdfc9d4b</td>\n",
       "      <td>train</td>\n",
       "      <td>1.0</td>\n",
       "      <td>319</td>\n",
       "      <td>7.0</td>\n",
       "    </tr>\n",
       "    <tr>\n",
       "      <th>16</th>\n",
       "      <td>Bye! \\n\\nDon't look, come or think of comming ...</td>\n",
       "      <td>0007e25b2121310b</td>\n",
       "      <td>train</td>\n",
       "      <td>1.0</td>\n",
       "      <td>57</td>\n",
       "      <td>0.0</td>\n",
       "    </tr>\n",
       "    <tr>\n",
       "      <th>42</th>\n",
       "      <td>You are gay or antisemmitian? \\n\\nArchangel WH...</td>\n",
       "      <td>001810bf8c45bf5f</td>\n",
       "      <td>train</td>\n",
       "      <td>4.0</td>\n",
       "      <td>648</td>\n",
       "      <td>1.0</td>\n",
       "    </tr>\n",
       "    <tr>\n",
       "      <th>43</th>\n",
       "      <td>FUCK YOUR FILTHY MOTHER IN THE ASS, DRY!</td>\n",
       "      <td>00190820581d90ce</td>\n",
       "      <td>train</td>\n",
       "      <td>3.0</td>\n",
       "      <td>40</td>\n",
       "      <td>5.0</td>\n",
       "    </tr>\n",
       "    <tr>\n",
       "      <th>44</th>\n",
       "      <td>I'm Sorry \\n\\nI'm sorry I screwed around with ...</td>\n",
       "      <td>001956c382006abd</td>\n",
       "      <td>train</td>\n",
       "      <td>1.0</td>\n",
       "      <td>319</td>\n",
       "      <td>0.0</td>\n",
       "    </tr>\n",
       "    <tr>\n",
       "      <th>51</th>\n",
       "      <td>GET FUCKED UP. GET FUCKEEED UP.  GOT A DRINK T...</td>\n",
       "      <td>001dc38a83d420cf</td>\n",
       "      <td>train</td>\n",
       "      <td>2.0</td>\n",
       "      <td>124</td>\n",
       "      <td>14.0</td>\n",
       "    </tr>\n",
       "    <tr>\n",
       "      <th>55</th>\n",
       "      <td>Stupid peace of shit stop deleting my stuff as...</td>\n",
       "      <td>0020e7119b96eeeb</td>\n",
       "      <td>train</td>\n",
       "      <td>4.0</td>\n",
       "      <td>89</td>\n",
       "      <td>0.0</td>\n",
       "    </tr>\n",
       "    <tr>\n",
       "      <th>56</th>\n",
       "      <td>=Tony Sidaway is obviously a fistfuckee. He lo...</td>\n",
       "      <td>0020fd96ed3b8c8b</td>\n",
       "      <td>train</td>\n",
       "      <td>3.0</td>\n",
       "      <td>68</td>\n",
       "      <td>0.0</td>\n",
       "    </tr>\n",
       "    <tr>\n",
       "      <th>58</th>\n",
       "      <td>My Band Page's deletion. You thought I was gon...</td>\n",
       "      <td>0021fe88bc4da3e6</td>\n",
       "      <td>train</td>\n",
       "      <td>2.0</td>\n",
       "      <td>1798</td>\n",
       "      <td>0.0</td>\n",
       "    </tr>\n",
       "  </tbody>\n",
       "</table>\n",
       "</div>"
      ],
      "text/plain": [
       "<div>\n",
       "<style scoped>\n",
       "    .dataframe tbody tr th:only-of-type {\n",
       "        vertical-align: middle;\n",
       "    }\n",
       "\n",
       "    .dataframe tbody tr th {\n",
       "        vertical-align: top;\n",
       "    }\n",
       "\n",
       "    .dataframe thead th {\n",
       "        text-align: right;\n",
       "    }\n",
       "</style>\n",
       "<table border=\"1\" class=\"dataframe\">\n",
       "  <thead>\n",
       "    <tr style=\"text-align: right;\">\n",
       "      <th></th>\n",
       "      <th>comment_text</th>\n",
       "      <th>id</th>\n",
       "      <th>source</th>\n",
       "      <th>total_flags</th>\n",
       "      <th>comment_length</th>\n",
       "      <th>comment_word_all_caps_processed</th>\n",
       "    </tr>\n",
       "  </thead>\n",
       "  <tbody>\n",
       "    <tr>\n",
       "      <th>6</th>\n",
       "      <td>COCKSUCKER BEFORE YOU PISS AROUND ON MY WORK</td>\n",
       "      <td>0002bcb3da6cb337</td>\n",
       "      <td>train</td>\n",
       "      <td>4.0</td>\n",
       "      <td>44</td>\n",
       "      <td>4.0</td>\n",
       "    </tr>\n",
       "    <tr>\n",
       "      <th>12</th>\n",
       "      <td>Hey... what is it..\\n@ | talk .\\nWhat is it......</td>\n",
       "      <td>0005c987bdfc9d4b</td>\n",
       "      <td>train</td>\n",
       "      <td>1.0</td>\n",
       "      <td>319</td>\n",
       "      <td>7.0</td>\n",
       "    </tr>\n",
       "    <tr>\n",
       "      <th>16</th>\n",
       "      <td>Bye! \\n\\nDon't look, come or think of comming ...</td>\n",
       "      <td>0007e25b2121310b</td>\n",
       "      <td>train</td>\n",
       "      <td>1.0</td>\n",
       "      <td>57</td>\n",
       "      <td>0.0</td>\n",
       "    </tr>\n",
       "    <tr>\n",
       "      <th>42</th>\n",
       "      <td>You are gay or antisemmitian? \\n\\nArchangel WH...</td>\n",
       "      <td>001810bf8c45bf5f</td>\n",
       "      <td>train</td>\n",
       "      <td>4.0</td>\n",
       "      <td>648</td>\n",
       "      <td>1.0</td>\n",
       "    </tr>\n",
       "    <tr>\n",
       "      <th>43</th>\n",
       "      <td>FUCK YOUR FILTHY MOTHER IN THE ASS, DRY!</td>\n",
       "      <td>00190820581d90ce</td>\n",
       "      <td>train</td>\n",
       "      <td>3.0</td>\n",
       "      <td>40</td>\n",
       "      <td>5.0</td>\n",
       "    </tr>\n",
       "    <tr>\n",
       "      <th>44</th>\n",
       "      <td>I'm Sorry \\n\\nI'm sorry I screwed around with ...</td>\n",
       "      <td>001956c382006abd</td>\n",
       "      <td>train</td>\n",
       "      <td>1.0</td>\n",
       "      <td>319</td>\n",
       "      <td>0.0</td>\n",
       "    </tr>\n",
       "    <tr>\n",
       "      <th>51</th>\n",
       "      <td>GET FUCKED UP. GET FUCKEEED UP.  GOT A DRINK T...</td>\n",
       "      <td>001dc38a83d420cf</td>\n",
       "      <td>train</td>\n",
       "      <td>2.0</td>\n",
       "      <td>124</td>\n",
       "      <td>14.0</td>\n",
       "    </tr>\n",
       "    <tr>\n",
       "      <th>55</th>\n",
       "      <td>Stupid peace of shit stop deleting my stuff as...</td>\n",
       "      <td>0020e7119b96eeeb</td>\n",
       "      <td>train</td>\n",
       "      <td>4.0</td>\n",
       "      <td>89</td>\n",
       "      <td>0.0</td>\n",
       "    </tr>\n",
       "    <tr>\n",
       "      <th>56</th>\n",
       "      <td>=Tony Sidaway is obviously a fistfuckee. He lo...</td>\n",
       "      <td>0020fd96ed3b8c8b</td>\n",
       "      <td>train</td>\n",
       "      <td>3.0</td>\n",
       "      <td>68</td>\n",
       "      <td>0.0</td>\n",
       "    </tr>\n",
       "    <tr>\n",
       "      <th>58</th>\n",
       "      <td>My Band Page's deletion. You thought I was gon...</td>\n",
       "      <td>0021fe88bc4da3e6</td>\n",
       "      <td>train</td>\n",
       "      <td>2.0</td>\n",
       "      <td>1798</td>\n",
       "      <td>0.0</td>\n",
       "    </tr>\n",
       "  </tbody>\n",
       "</table>\n",
       "</div>"
      ]
     },
     "execution_count": 39,
     "metadata": {},
     "output_type": "execute_result"
    }
   ],
   "source": [
    "df_melted.iloc[:,:6].head(10)"
   ]
  },
  {
   "cell_type": "code",
   "execution_count": 12,
   "metadata": {
    "ExecuteTime": {
     "end_time": "2018-02-05T00:25:12.548406Z",
     "start_time": "2018-02-05T00:25:12.453342Z"
    }
   },
   "outputs": [
    {
     "data": {
      "text/plain": [
       "Counter({'Stop': 1,\n         'already': 1,\n         'bullshit': 1,\n         'enough': 1,\n         'explination': 1,\n         'fool': 1,\n         'kind': 1,\n         'pity': 1,\n         'think': 1,\n         'welcome': 1,\n         'well': 1})"
      ]
     },
     "execution_count": 12,
     "metadata": {},
     "output_type": "execute_result"
    }
   ],
   "source": [
    "\n",
    "q"
   ]
  },
  {
   "cell_type": "code",
   "execution_count": 13,
   "metadata": {
    "ExecuteTime": {
     "end_time": "2018-02-05T00:27:20.567046Z",
     "start_time": "2018-02-05T00:27:20.278826Z"
    }
   },
   "outputs": [
    {
     "data": {
      "text/plain": [
       "<matplotlib.axes._subplots.AxesSubplot at 0x23c5eaccdd8>"
      ]
     },
     "execution_count": 13,
     "metadata": {},
     "output_type": "execute_result"
    },
    {
     "data": {
      "image/png": "[encoded data removed]",
      "text/plain": [
       "<matplotlib.figure.Figure at 0x23c40493da0>"
      ]
     },
     "metadata": {},
     "output_type": "display_data"
    }
   ],
   "source": [
    "split = 'comment_mcw_is_badword'\n",
    "\n",
    "q = df_melted.groupby(['flag_type', split]).size().reset_index()\n",
    "q.columns = ['flag_type', split, 'size']\n",
    "q = q.merge(df_melted.groupby(['flag_type']).size().reset_index())\n",
    "q.columns = ['flag_type', split, 'size', 'total_for_flag']\n",
    "q['pct'] = q['size'] / q['total_for_flag'] * 100\n",
    "plt.figure(figsize=(12, 5))\n",
    "sns.barplot(x='flag_type', y='pct', data=q, hue=split)\n"
   ]
  },
  {
   "cell_type": "code",
   "execution_count": 14,
   "metadata": {
    "ExecuteTime": {
     "end_time": "2018-02-05T00:32:09.349415Z",
     "start_time": "2018-02-05T00:32:09.018268Z"
    }
   },
   "outputs": [
    {
     "data": {
      "text/plain": [
       "<matplotlib.axes._subplots.AxesSubplot at 0x23c5eae5ac8>"
      ]
     },
     "execution_count": 14,
     "metadata": {},
     "output_type": "execute_result"
    },
    {
     "data": {
      "image/png": "[encoded data removed]",
      "text/plain": [
       "<matplotlib.figure.Figure at 0x23c4679b2e8>"
      ]
     },
     "metadata": {},
     "output_type": "display_data"
    }
   ],
   "source": [
    "plt.figure(figsize=(12,5))\n",
    "sns.barplot(x='flag_type',y='all_caps_pct',data=df_melted,ci=None)"
   ]
  },
  {
   "cell_type": "code",
   "execution_count": 15,
   "metadata": {
    "ExecuteTime": {
     "end_time": "2018-02-04T00:07:14.821296Z",
     "start_time": "2018-02-04T00:07:14.375982Z"
    }
   },
   "outputs": [
    {
     "data": {
      "text/plain": [
       "<matplotlib.axes._subplots.AxesSubplot at 0x23c001c5c18>"
      ]
     },
     "execution_count": 15,
     "metadata": {},
     "output_type": "execute_result"
    },
    {
     "data": {
      "image/png": "[encoded data removed]",
      "text/plain": [
       "<matplotlib.figure.Figure at 0x23c0085e6a0>"
      ]
     },
     "metadata": {},
     "output_type": "display_data"
    }
   ],
   "source": [
    "plt.figure(figsize=(12,5))\n",
    "sns.boxplot(x='flag_type',y='mcw_pct',data=df_melted[df_melted.mcw_pct<30])"
   ]
  },
  {
   "cell_type": "code",
   "execution_count": 16,
   "metadata": {
    "ExecuteTime": {
     "end_time": "2018-02-04T00:33:54.061731Z",
     "start_time": "2018-02-04T00:33:53.617405Z"
    }
   },
   "outputs": [
    {
     "data": {
      "text/plain": [
       "<matplotlib.axes._subplots.AxesSubplot at 0x23c009d25f8>"
      ]
     },
     "execution_count": 16,
     "metadata": {},
     "output_type": "execute_result"
    },
    {
     "data": {
      "image/png": "[encoded data removed]",
      "text/plain": [
       "<matplotlib.figure.Figure at 0x23c009b4588>"
      ]
     },
     "metadata": {},
     "output_type": "display_data"
    }
   ],
   "source": [
    "plt.figure(figsize=(12,5))\n",
    "sns.boxplot(x='flag_type',y='badword_pct',data=df_melted[df_melted.badword_pct<40])"
   ]
  },
  {
   "cell_type": "code",
   "execution_count": 52,
   "metadata": {
    "ExecuteTime": {
     "end_time": "2018-02-04T23:44:23.413501Z",
     "start_time": "2018-02-04T23:44:22.257685Z"
    },
    "collapsed": false
   },
   "outputs": [
    {
     "ename": "PlotlyRequestError",
     "evalue": "You must be authenticated to generate an image via json.",
     "traceback": [
      "\u001b[1;31m---------------------------------------------------------------------------\u001b[0m",
      "\u001b[1;31mPlotlyRequestError\u001b[0m                        Traceback (most recent call last)",
      "\u001b[1;32m<ipython-input-52-cfb029ed174d>\u001b[0m in \u001b[0;36m<module>\u001b[1;34m()\u001b[0m\n\u001b[0;32m     17\u001b[0m \u001b[0mlayout\u001b[0m \u001b[1;33m=\u001b[0m \u001b[0mgo\u001b[0m\u001b[1;33m.\u001b[0m\u001b[0mLayout\u001b[0m\u001b[1;33m(\u001b[0m\u001b[0mbarmode\u001b[0m\u001b[1;33m=\u001b[0m\u001b[1;34m'group'\u001b[0m\u001b[1;33m,\u001b[0m\u001b[0mxaxis\u001b[0m\u001b[1;33m=\u001b[0m\u001b[0mdict\u001b[0m\u001b[1;33m(\u001b[0m\u001b[0mrange\u001b[0m\u001b[1;33m=\u001b[0m\u001b[1;33m(\u001b[0m\u001b[1;36m0\u001b[0m\u001b[1;33m,\u001b[0m\u001b[1;36m100\u001b[0m\u001b[1;33m)\u001b[0m\u001b[1;33m)\u001b[0m\u001b[1;33m)\u001b[0m\u001b[1;33m\u001b[0m\u001b[0m\n\u001b[0;32m     18\u001b[0m \u001b[0mfig\u001b[0m \u001b[1;33m=\u001b[0m \u001b[0mgo\u001b[0m\u001b[1;33m.\u001b[0m\u001b[0mFigure\u001b[0m\u001b[1;33m(\u001b[0m\u001b[0mdata\u001b[0m\u001b[1;33m=\u001b[0m\u001b[0mdata\u001b[0m\u001b[1;33m,\u001b[0m \u001b[0mlayout\u001b[0m\u001b[1;33m=\u001b[0m\u001b[0mlayout\u001b[0m\u001b[1;33m)\u001b[0m\u001b[1;33m\u001b[0m\u001b[0m\n\u001b[1;32m---> 19\u001b[1;33m \u001b[0mpy\u001b[0m\u001b[1;33m.\u001b[0m\u001b[0mplotly\u001b[0m\u001b[1;33m.\u001b[0m\u001b[0mimage\u001b[0m\u001b[1;33m.\u001b[0m\u001b[0mishow\u001b[0m\u001b[1;33m(\u001b[0m\u001b[0mfig\u001b[0m\u001b[1;33m)\u001b[0m\u001b[1;33m\u001b[0m\u001b[0m\n\u001b[0m\u001b[0;32m     20\u001b[0m \u001b[1;31m# py.offline.iplot(fig)\u001b[0m\u001b[1;33m\u001b[0m\u001b[1;33m\u001b[0m\u001b[0m\n",
      "\u001b[1;32mC:\\Anaconda3\\lib\\site-packages\\plotly\\plotly\\plotly.py\u001b[0m in \u001b[0;36mishow\u001b[1;34m(cls, figure_or_data, format, width, height, scale)\u001b[0m\n\u001b[0;32m    790\u001b[0m                 \u001b[1;34m\"with the `image.save_as` or you can \"\u001b[0m\u001b[1;33m\u001b[0m\u001b[0m\n\u001b[0;32m    791\u001b[0m                 \"embed an png, jpeg, or svg.\")\n\u001b[1;32m--> 792\u001b[1;33m         \u001b[0mimg\u001b[0m \u001b[1;33m=\u001b[0m \u001b[0mcls\u001b[0m\u001b[1;33m.\u001b[0m\u001b[0mget\u001b[0m\u001b[1;33m(\u001b[0m\u001b[0mfigure_or_data\u001b[0m\u001b[1;33m,\u001b[0m \u001b[0mformat\u001b[0m\u001b[1;33m,\u001b[0m \u001b[0mwidth\u001b[0m\u001b[1;33m,\u001b[0m \u001b[0mheight\u001b[0m\u001b[1;33m,\u001b[0m \u001b[0mscale\u001b[0m\u001b[1;33m)\u001b[0m\u001b[1;33m\u001b[0m\u001b[0m\n\u001b[0m\u001b[0;32m    793\u001b[0m         \u001b[1;32mfrom\u001b[0m \u001b[0mIPython\u001b[0m\u001b[1;33m.\u001b[0m\u001b[0mdisplay\u001b[0m \u001b[1;32mimport\u001b[0m \u001b[0mdisplay\u001b[0m\u001b[1;33m,\u001b[0m \u001b[0mImage\u001b[0m\u001b[1;33m,\u001b[0m \u001b[0mSVG\u001b[0m\u001b[1;33m\u001b[0m\u001b[0m\n\u001b[0;32m    794\u001b[0m         \u001b[1;32mif\u001b[0m \u001b[0mformat\u001b[0m \u001b[1;33m==\u001b[0m \u001b[1;34m'svg'\u001b[0m\u001b[1;33m:\u001b[0m\u001b[1;33m\u001b[0m\u001b[0m\n",
      "\u001b[1;32mC:\\Anaconda3\\lib\\site-packages\\plotly\\plotly\\plotly.py\u001b[0m in \u001b[0;36mget\u001b[1;34m(figure_or_data, format, width, height, scale)\u001b[0m\n\u001b[0;32m    748\u001b[0m             \u001b[0mpayload\u001b[0m\u001b[1;33m[\u001b[0m\u001b[1;34m'scale'\u001b[0m\u001b[1;33m]\u001b[0m \u001b[1;33m=\u001b[0m \u001b[0mscale\u001b[0m\u001b[1;33m\u001b[0m\u001b[0m\n\u001b[0;32m    749\u001b[0m \u001b[1;33m\u001b[0m\u001b[0m\n\u001b[1;32m--> 750\u001b[1;33m         \u001b[0mresponse\u001b[0m \u001b[1;33m=\u001b[0m \u001b[0mv2\u001b[0m\u001b[1;33m.\u001b[0m\u001b[0mimages\u001b[0m\u001b[1;33m.\u001b[0m\u001b[0mcreate\u001b[0m\u001b[1;33m(\u001b[0m\u001b[0mpayload\u001b[0m\u001b[1;33m)\u001b[0m\u001b[1;33m\u001b[0m\u001b[0m\n\u001b[0m\u001b[0;32m    751\u001b[0m \u001b[1;33m\u001b[0m\u001b[0m\n\u001b[0;32m    752\u001b[0m         \u001b[0mheaders\u001b[0m \u001b[1;33m=\u001b[0m \u001b[0mresponse\u001b[0m\u001b[1;33m.\u001b[0m\u001b[0mheaders\u001b[0m\u001b[1;33m\u001b[0m\u001b[0m\n",
      "\u001b[1;32mC:\\Anaconda3\\lib\\site-packages\\plotly\\api\\v2\\images.py\u001b[0m in \u001b[0;36mcreate\u001b[1;34m(body)\u001b[0m\n\u001b[0;32m     16\u001b[0m     \"\"\"\n\u001b[0;32m     17\u001b[0m     \u001b[0murl\u001b[0m \u001b[1;33m=\u001b[0m \u001b[0mbuild_url\u001b[0m\u001b[1;33m(\u001b[0m\u001b[0mRESOURCE\u001b[0m\u001b[1;33m)\u001b[0m\u001b[1;33m\u001b[0m\u001b[0m\n\u001b[1;32m---> 18\u001b[1;33m     \u001b[1;32mreturn\u001b[0m \u001b[0mrequest\u001b[0m\u001b[1;33m(\u001b[0m\u001b[1;34m'post'\u001b[0m\u001b[1;33m,\u001b[0m \u001b[0murl\u001b[0m\u001b[1;33m,\u001b[0m \u001b[0mjson\u001b[0m\u001b[1;33m=\u001b[0m\u001b[0mbody\u001b[0m\u001b[1;33m)\u001b[0m\u001b[1;33m\u001b[0m\u001b[0m\n\u001b[0m",
      "\u001b[1;32mC:\\Anaconda3\\lib\\site-packages\\plotly\\api\\v2\\utils.py\u001b[0m in \u001b[0;36mrequest\u001b[1;34m(method, url, **kwargs)\u001b[0m\n\u001b[0;32m    151\u001b[0m         \u001b[0mcontent\u001b[0m \u001b[1;33m=\u001b[0m \u001b[0mresponse\u001b[0m\u001b[1;33m.\u001b[0m\u001b[0mcontent\u001b[0m \u001b[1;32mif\u001b[0m \u001b[0mresponse\u001b[0m \u001b[1;32melse\u001b[0m \u001b[1;34m'No content'\u001b[0m\u001b[1;33m\u001b[0m\u001b[0m\n\u001b[0;32m    152\u001b[0m         \u001b[1;32mraise\u001b[0m \u001b[0mexceptions\u001b[0m\u001b[1;33m.\u001b[0m\u001b[0mPlotlyRequestError\u001b[0m\u001b[1;33m(\u001b[0m\u001b[0mmessage\u001b[0m\u001b[1;33m,\u001b[0m \u001b[0mstatus_code\u001b[0m\u001b[1;33m,\u001b[0m \u001b[0mcontent\u001b[0m\u001b[1;33m)\u001b[0m\u001b[1;33m\u001b[0m\u001b[0m\n\u001b[1;32m--> 153\u001b[1;33m     \u001b[0mvalidate_response\u001b[0m\u001b[1;33m(\u001b[0m\u001b[0mresponse\u001b[0m\u001b[1;33m)\u001b[0m\u001b[1;33m\u001b[0m\u001b[0m\n\u001b[0m\u001b[0;32m    154\u001b[0m     \u001b[1;32mreturn\u001b[0m \u001b[0mresponse\u001b[0m\u001b[1;33m\u001b[0m\u001b[0m\n",
      "\u001b[1;32mC:\\Anaconda3\\lib\\site-packages\\plotly\\api\\v2\\utils.py\u001b[0m in \u001b[0;36mvalidate_response\u001b[1;34m(response)\u001b[0m\n\u001b[0;32m     77\u001b[0m         \u001b[0mmessage\u001b[0m \u001b[1;33m=\u001b[0m \u001b[0mcontent\u001b[0m \u001b[1;32mif\u001b[0m \u001b[0mcontent\u001b[0m \u001b[1;32melse\u001b[0m \u001b[1;34m'No Content'\u001b[0m\u001b[1;33m\u001b[0m\u001b[0m\n\u001b[0;32m     78\u001b[0m \u001b[1;33m\u001b[0m\u001b[0m\n\u001b[1;32m---> 79\u001b[1;33m     \u001b[1;32mraise\u001b[0m \u001b[0mexceptions\u001b[0m\u001b[1;33m.\u001b[0m\u001b[0mPlotlyRequestError\u001b[0m\u001b[1;33m(\u001b[0m\u001b[0mmessage\u001b[0m\u001b[1;33m,\u001b[0m \u001b[0mstatus_code\u001b[0m\u001b[1;33m,\u001b[0m \u001b[0mcontent\u001b[0m\u001b[1;33m)\u001b[0m\u001b[1;33m\u001b[0m\u001b[0m\n\u001b[0m\u001b[0;32m     80\u001b[0m \u001b[1;33m\u001b[0m\u001b[0m\n\u001b[0;32m     81\u001b[0m \u001b[1;33m\u001b[0m\u001b[0m\n",
      "\u001b[1;31mPlotlyRequestError\u001b[0m: You must be authenticated to generate an image via json."
     ],
     "output_type": "error"
    }
   ],
   "source": [
    "x2 = go.Histogram(x=df_melted[df_melted.flag_type=='toxic'].badword_pct,opacity=.5,name='toxic',\n",
    "                  histnorm='percent',autobinx=False,xbins=dict(start=0,end=100,size=10))\n",
    "x5 = go.Histogram(x=df_melted[df_melted.flag_type=='severe_toxic'].badword_pct,opacity=.5,name='severe_toxic',\n",
    "                  autobinx=False,histnorm='percent',xbins=dict(start=0,end=100,size=10))\n",
    "x3 = go.Histogram(x=df_melted[df_melted.flag_type=='obscene'].badword_pct,opacity=.5,name='obscene',\n",
    "                  histnorm='percent',autobinx=False,xbins=dict(start=0,end=100,size=10))\n",
    "x7 = go.Histogram(x=df_melted[df_melted.flag_type=='threat'].badword_pct,opacity=.5,name='threat',\n",
    "                  histnorm='percent',autobinx=False,xbins=dict(start=0,end=100,size=10))\n",
    "x4 = go.Histogram(x=df_melted[df_melted.flag_type=='insult'].badword_pct,opacity=.5,name='insult',\n",
    "                  histnorm='percent',autobinx=False,xbins=dict(start=0,end=100,size=10))\n",
    "x6 = go.Histogram(x=df_melted[df_melted.flag_type=='identity_hate'].badword_pct,opacity=.5,name='identity_hate',\n",
    "                  autobinx=False,histnorm='percent',xbins=dict(start=0,end=100,size=10))\n",
    "x1 = go.Histogram(x=df_melted[df_melted.flag_type=='clean'].badword_pct,opacity=.5,name='clean',\n",
    "                  histnorm='percent',autobinx=False,xbins=dict(start=0,end=100,size=10))\n",
    "\n",
    "data = [x1,x2,x3,x4,x5,x6]\n",
    "layout = go.Layout(barmode='group',xaxis=dict(range=(0,100)))\n",
    "fig = go.Figure(data=data, layout=layout)\n",
    "py.offline.iplot(fig)"
   ]
  },
  {
   "cell_type": "markdown",
   "metadata": {},
   "source": [
    "Plot the count of flag types"
   ]
  },
  {
   "cell_type": "code",
   "execution_count": 17,
   "metadata": {
    "ExecuteTime": {
     "end_time": "2018-02-02T23:21:56.569663Z",
     "start_time": "2018-02-02T23:21:56.109340Z"
    }
   },
   "outputs": [
    {
     "data": {
      "text/plain": [
       "<matplotlib.axes._subplots.AxesSubplot at 0x1f52e2bf320>"
      ]
     },
     "execution_count": 9,
     "metadata": {},
     "output_type": "execute_result"
    },
    {
     "data": {
      "image/png": "[encoded data removed]",
      "text/plain": [
       "<matplotlib.figure.Figure at 0x1f525cac2b0>"
      ]
     },
     "metadata": {},
     "output_type": "display_data"
    }
   ],
   "source": [
    "z = df_train_initial.loc[:,initialcols].sum()\n",
    "plt.figure(figsize=(9,5))\n",
    "sns.barplot(z.index,z.values)"
   ]
  },
  {
   "cell_type": "markdown",
   "metadata": {},
   "source": [
    "Plot number of flags per record\n",
    "\n",
    "why are there more triple flagged records than double flagged?"
   ]
  },
  {
   "cell_type": "markdown",
   "metadata": {
    "ExecuteTime": {
     "end_time": "2018-01-31T03:55:46.903622Z",
     "start_time": "2018-01-31T03:55:46.736515Z"
    }
   },
   "source": [
    "z = df_train.total_flags.value_counts()\n",
    "plt.figure(figsize=(9,5))\n",
    "sns.barplot(z.index,z.values,color='b')\n"
   ]
  },
  {
   "cell_type": "code",
   "execution_count": 19,
   "metadata": {
    "ExecuteTime": {
     "end_time": "2018-02-02T23:21:56.588678Z",
     "start_time": "2018-02-02T23:21:56.570666Z"
    }
   },
   "outputs": [
    {
     "data": {
      "text/html": [
       "<div id=\"75db7960-4d92-468d-9802-91209af21a06\" style=\"height: 525px; width: 100%;\" class=\"plotly-graph-div\"></div><script type=\"text/javascript\">require([\"plotly\"], function(Plotly) { window.PLOTLYENV=window.PLOTLYENV || {};window.PLOTLYENV.BASE_URL=\"https://plot.ly\";Plotly.newPlot(\"75db7960-4d92-468d-9802-91209af21a06\", [{\"type\": \"bar\", \"x\": [0.0, 1.0, 3.0, 2.0, 4.0, 5.0, 6.0], \"y\": [143346, 6360, 4209, 3480, 1760, 385, 31]}], {}, {\"showLink\": true, \"linkText\": \"Export to plot.ly\"})});</script>"
      ],
      "text/plain": [
       "<div id=\"75db7960-4d92-468d-9802-91209af21a06\" style=\"height: 525px; width: 100%;\" class=\"plotly-graph-div\"></div><script type=\"text/javascript\">require([\"plotly\"], function(Plotly) { window.PLOTLYENV=window.PLOTLYENV || {};window.PLOTLYENV.BASE_URL=\"https://plot.ly\";Plotly.newPlot(\"75db7960-4d92-468d-9802-91209af21a06\", [{\"type\": \"bar\", \"x\": [0.0, 1.0, 3.0, 2.0, 4.0, 5.0, 6.0], \"y\": [143346, 6360, 4209, 3480, 1760, 385, 31]}], {}, {\"showLink\": true, \"linkText\": \"Export to plot.ly\"})});</script>"
      ]
     },
     "execution_count": 0,
     "metadata": {},
     "output_type": "execute_result"
    }
   ],
   "source": [
    "z = pd.DataFrame(df_features.total_flags.value_counts())\n",
    "z['flags'] = z.index\n",
    "iplot([go.Bar(x=z.flags, y=z.total_flags)])\n"
   ]
  },
  {
   "cell_type": "markdown",
   "metadata": {},
   "source": [
    "Plot comment lengths"
   ]
  },
  {
   "cell_type": "code",
   "execution_count": 20,
   "metadata": {
    "ExecuteTime": {
     "end_time": "2018-02-02T23:21:56.934921Z",
     "start_time": "2018-02-02T23:21:56.590679Z"
    }
   },
   "outputs": [
    {
     "data": {
      "text/plain": [
       "<matplotlib.axes._subplots.AxesSubplot at 0x23c00b484e0>"
      ]
     },
     "execution_count": 20,
     "metadata": {},
     "output_type": "execute_result"
    },
    {
     "data": {
      "image/png": "[encoded data removed]",
      "text/plain": [
       "<matplotlib.figure.Figure at 0x23c00b48400>"
      ]
     },
     "metadata": {},
     "output_type": "display_data"
    }
   ],
   "source": [
    "plt.figure(figsize=(9,5))\n",
    "sns.distplot(df_features.comment_length, color='b', kde=False, hist_kws=dict(alpha=1))"
   ]
  },
  {
   "cell_type": "markdown",
   "metadata": {},
   "source": [
    "sample comments"
   ]
  },
  {
   "cell_type": "code",
   "execution_count": 21,
   "metadata": {
    "ExecuteTime": {
     "end_time": "2018-02-02T23:21:57.215120Z",
     "start_time": "2018-02-02T23:21:56.936923Z"
    }
   },
   "outputs": [
    {
     "name": "stdout",
     "output_type": "stream",
     "text": [
      "clean:\n\n D'aww! He matches this background colour I'm seemingly stuck with. Thanks.  (talk) 21:51, January 11, 2016 (UTC) \n........................\n\ntoxic:\n\n Bye! \n\nDon't look, come or think of comming back! Tosser. \n........................\n\nsever_toxic:\n\n Stupid peace of shit stop deleting my stuff asshole go die and fall in a hole go to hell! \n........................\n\nobscene:\n\n Bleh. I'm all out of ideas. Is there really something wrong with the server or what? The damn thing won't work for me, either Helvetica_font_new.svg (my upload of Segoe UI was actually a PNG to begin with...) \n........................\n\nthreat:\n\n That's funny. You was personally offended? So the bad things writer new you, your name etc, right? \nAnd one get offended by a comment, or epithets on a website, then that same person must grow up spiritually for some more 5 centuries at least.\nAnd if one get more offended by the previous comment, then that same person must kill him/hersef.\n\nTake care! \n........................\n\ninsult:\n\n Hebrew Name of Lydia \nAppologies to Til Eulenspiegel I thought you were one of the idiots which your user page indicates you actually do well struggling against. \nGenesis 10:יג  וּמִצְרַיִם יָלַד אֶת-לוּדִים וְאֶת-עֲנָמִים, וְאֶת-לְהָבִיםוְאֶת-נַפְתֻּחִים.TAB13 And Mizraim begot Ludim, and Anamim, and Lehabim, and Naphtuhim,\nYou see Ludim are from Mitzraim not to be confused with Lud son of Shem (in the far east).\nBest wishes and keep up the good work.81.103.121.144 \n........................\n\nidentity_hate:\n\n it is obvius to, me, a black man, that orange is for da black Gs, blue is for mexicans and yellow is 4 whites. coz whites look like woman. and mexicans try to compete with da nigger Gs but we r too strong. but in realty the whites also lose to da black man coz we have foot longs124.176.226.45  \n\nOrange-throated males are strongest and do not form strong pair bonds; instead, they fight blue-throated males for their females. Yellow-throated males, however, manage to snatch females away from them for mating.\nBlue-throated males are middle-sized and form strong pair bonds. While they are outcompeted by orange-throated males, they can defend against yellow-throated ones.\nYellow-throated males are smallest, and their coloration mimics females. Under this disguise, they can approach orange-throated males (though not the stronger-bonding, blue-throated specimens) and mate while the orange-throats are engaged in fights. \n........................\n\n6 flags:\n\n SHUT UP, YOU FAT POOP, OR I WILL KICK YOUR ASS!!! \n........................\n\n"
     ]
    }
   ],
   "source": [
    "print('clean:\\n\\n',df_features[(df_features.clean==1)].iloc[1,0],'\\n........................\\n')\n",
    "print('toxic:\\n\\n',df_features[(df_features.toxic==1)&(df_features.total_flags==1)].iloc[1,0],'\\n........................\\n')\n",
    "print('sever_toxic:\\n\\n',df_features[(df_features.severe_toxic==1)].iloc[1,0],'\\n........................\\n')\n",
    "print('obscene:\\n\\n',df_features[(df_features.obscene==1)&(df_features.total_flags==1)].iloc[1,0],'\\n........................\\n')\n",
    "print('threat:\\n\\n',df_features[(df_features.threat==1)&(df_features.total_flags==1)].iloc[1,0],'\\n........................\\n')\n",
    "print('insult:\\n\\n',df_features[(df_features.insult==1)&(df_features.total_flags==1)].iloc[1,0],'\\n........................\\n')\n",
    "print('identity_hate:\\n\\n',df_features[(df_features.identity_hate==1)&(df_features.total_flags==1)].iloc[1,0],'\\n........................\\n')\n",
    "print('6 flags:\\n\\n',df_features[(df_features.total_flags==6)].iloc[1,0],'\\n........................\\n')"
   ]
  },
  {
   "cell_type": "code",
   "execution_count": 22,
   "metadata": {
    "ExecuteTime": {
     "end_time": "2018-02-02T23:23:20.455023Z",
     "start_time": "2018-02-02T23:22:39.440452Z"
    }
   },
   "outputs": [],
   "source": [
    "subset=df_features[df_features.clean==1]\n",
    "text=subset.comment_text.values\n",
    "wc= WordCloud(colormap='plasma',stopwords=stopwords_set)\n",
    "wc.generate(\" \".join(text))\n",
    "plt.figure(figsize=(20,10))\n",
    "plt.axis(\"off\")\n",
    "plt.title(\"Words frequented in Clean Comments\", fontsize=20)\n",
    "plt.imshow(wc.recolor(random_state=99), alpha=0.98)\n",
    "plt.show()"
   ]
  },
  {
   "cell_type": "code",
   "execution_count": 23,
   "metadata": {
    "ExecuteTime": {
     "end_time": "2018-02-02T23:25:47.134315Z",
     "start_time": "2018-02-02T23:25:44.848702Z"
    }
   },
   "outputs": [],
   "source": [
    "subset=df_features[df_features.total_flags>1]\n",
    "text=subset.comment_text.values\n",
    "wc= WordCloud(colormap='plasma',stopwords=stopwords_set)\n",
    "wc.generate(\" \".join(text))\n",
    "plt.figure(figsize=(20,10))\n",
    "plt.axis(\"off\")\n",
    "plt.title(\"Words frequented in Multiple Flagged Comments\", fontsize=20)\n",
    "plt.imshow(wc.recolor(random_state=99), alpha=0.98)\n",
    "plt.show()"
   ]
  }
 ],
 "metadata": {
  "kernelspec": {
   "display_name": "Python [default]",
   "language": "python",
   "name": "python3"
  },
  "language_info": {
   "codemirror_mode": {
    "name": "ipython",
    "version": 3
   },
   "file_extension": ".py",
   "mimetype": "text/x-python",
   "name": "python",
   "nbconvert_exporter": "python",
   "pygments_lexer": "ipython3",
   "version": "3.6.1"
  },
  "varInspector": {
   "cols": {
    "lenName": 16.0,
    "lenType": 16.0,
    "lenVar": 40.0
   },
   "kernels_config": {
    "python": {
     "delete_cmd_postfix": "",
     "delete_cmd_prefix": "del ",
     "library": "var_list.py",
     "varRefreshCmd": "print(var_dic_list())"
    },
    "r": {
     "delete_cmd_postfix": ") ",
     "delete_cmd_prefix": "rm(",
     "library": "var_list.r",
     "varRefreshCmd": "cat(var_dic_list()) "
    }
   },
   "types_to_exclude": [
    "module",
    "function",
    "builtin_function_or_method",
    "instance",
    "_Feature"
   ],
   "window_display": false
  }
 },
 "nbformat": 4,
 "nbformat_minor": 2
}
